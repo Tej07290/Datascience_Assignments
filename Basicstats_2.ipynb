{
  "nbformat": 4,
  "nbformat_minor": 0,
  "metadata": {
    "colab": {
      "provenance": []
    },
    "kernelspec": {
      "name": "python3",
      "display_name": "Python 3"
    },
    "language_info": {
      "name": "python"
    }
  },
  "cells": [
    {
      "cell_type": "markdown",
      "source": [
        "BUILDING 99% CONFIDENCE INTERVALS USING SAMPLE STANDARD DEVIATION\n",
        "\n"
      ],
      "metadata": {
        "id": "BClnUG0UKTUI"
      }
    },
    {
      "cell_type": "code",
      "source": [
        "from scipy import stats\n",
        "import pandas as pd\n",
        "import numpy as np"
      ],
      "metadata": {
        "id": "265C-0_AKmxZ"
      },
      "execution_count": 11,
      "outputs": []
    },
    {
      "cell_type": "code",
      "source": [
        "# data\n",
        "data = [1.13, 1.55, 1.43, 0.92, 1.25, 1.36, 1.32, 0.85, 1.07, 1.48, 1.20, 1.33, 1.18, 1.22, 1.29]\n",
        "\n",
        "# Confidence Interval\n",
        "\n",
        "confidence_interval_sample = stats.norm.interval(0.99, loc=np.mean(data), scale=stats.sem(data))\n",
        "print(\"Confidence Interval:\",np.round(confidence_interval_sample,5))\n",
        "\n",
        "# Mean\n",
        "\n",
        "mean = np.mean(data)\n",
        "print(\"mean:\",np.round(mean,5))\n",
        "\n"
      ],
      "metadata": {
        "colab": {
          "base_uri": "https://localhost:8080/"
        },
        "id": "k0IRTO5wLDdf",
        "outputId": "cc4a0819-6f53-45b4-eb1b-93599bb4a805"
      },
      "execution_count": 20,
      "outputs": [
        {
          "output_type": "stream",
          "name": "stdout",
          "text": [
            "Confidence Interval: [1.1102  1.36714]\n",
            "mean: 1.23867\n"
          ]
        }
      ]
    },
    {
      "cell_type": "markdown",
      "source": [
        "BUILDING 99% CONFIDENCE INTERVAL USING KNOWN POPULATION STANDARD DEVIATION"
      ],
      "metadata": {
        "id": "AbyeOX0wQttl"
      }
    },
    {
      "cell_type": "code",
      "source": [
        "from scipy import stats\n",
        "import numpy as np"
      ],
      "metadata": {
        "id": "u_PK_Z09VYol"
      },
      "execution_count": 14,
      "outputs": []
    },
    {
      "cell_type": "code",
      "source": [
        "# data\n",
        "data = [1.13, 1.55, 1.43, 0.92, 1.25, 1.36, 1.32, 0.85, 1.07, 1.48, 1.20, 1.33, 1.18, 1.22, 1.29]\n",
        "\n",
        "#known population standard deviation\n",
        "sigma = 0.2\n",
        "\n",
        "# population size\n",
        "n = len(data)\n",
        "\n",
        "# population mean\n",
        "mean = np.mean(data)\n",
        "\n",
        "# z-score\n",
        "confidence_level = 0.99\n",
        "z_score = round(stats.norm.ppf((1 + confidence_level)/2),3)\n",
        "\n",
        "\n",
        "# standard error\n",
        "SE_population = sigma/np.sqrt(n)\n",
        "\n",
        "# margin error\n",
        "ME_population = z_score * SE_population\n",
        "\n",
        "# confidence interval\n",
        "confidence_interval_population = (mean - ME_population , mean + ME_population)\n",
        "\n",
        "print(\"Mean:\",np.round(mean,5))\n",
        "print(\"Confidence Interval:\",np.round(confidence_interval_population,5))\n"
      ],
      "metadata": {
        "colab": {
          "base_uri": "https://localhost:8080/"
        },
        "id": "XQ7cJUylWA8_",
        "outputId": "59f0724b-4cb9-4569-b8e9-dd6e0d464ff5"
      },
      "execution_count": 21,
      "outputs": [
        {
          "output_type": "stream",
          "name": "stdout",
          "text": [
            "Mean: 1.23867\n",
            "Confidence Interval: [1.10564 1.37169]\n"
          ]
        }
      ]
    },
    {
      "cell_type": "code",
      "source": [],
      "metadata": {
        "id": "8tfXISXSZhJe"
      },
      "execution_count": null,
      "outputs": []
    }
  ]
}