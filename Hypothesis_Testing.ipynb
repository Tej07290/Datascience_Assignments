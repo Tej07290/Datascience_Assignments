{
  "nbformat": 4,
  "nbformat_minor": 0,
  "metadata": {
    "colab": {
      "provenance": []
    },
    "kernelspec": {
      "name": "python3",
      "display_name": "Python 3"
    },
    "language_info": {
      "name": "python"
    }
  },
  "cells": [
    {
      "cell_type": "markdown",
      "source": [
        "**Hypothesis Statements H0 & H1 :**"
      ],
      "metadata": {
        "id": "VTmXZ6nNzYgb"
      }
    },
    {
      "cell_type": "markdown",
      "source": [
        "Null Hypothesis(H0): The mean weekly operating cost is equal to the theoretical mean.\n",
        "\n",
        "H0 : μ = 3050"
      ],
      "metadata": {
        "id": "kJVupP37jzAr"
      }
    },
    {
      "cell_type": "markdown",
      "source": [
        "Alternative Hypothesis(H1):The mean weekly operating cost is greater than the theoretical mean.\n",
        "\n",
        "H1 : μ > 3050"
      ],
      "metadata": {
        "id": "PX9vLX1gmEw_"
      }
    },
    {
      "cell_type": "code",
      "source": [
        "from scipy import stats\n",
        "import numpy as np"
      ],
      "metadata": {
        "id": "WpizaDqSl0i8"
      },
      "execution_count": 1,
      "outputs": []
    },
    {
      "cell_type": "code",
      "source": [
        "# Given constants\n",
        "\n",
        "sample_mean = 3050           # sample mean of weekly cost\n",
        "X = 600                      # number of units produced\n",
        "fixed_cost = 1000            # fixed cost in cost model\n",
        "variable_cost_per_unit = 5   # variable cost per unit\n",
        "n = 25                       # sample size"
      ],
      "metadata": {
        "id": "474vZu51nB5-"
      },
      "execution_count": 3,
      "outputs": []
    },
    {
      "cell_type": "markdown",
      "source": [
        "**Calculating Test Statistic :**"
      ],
      "metadata": {
        "id": "lrSszKkwzNm_"
      }
    },
    {
      "cell_type": "code",
      "source": [
        "# Calculating theoretical mean for weekly cost\n",
        "\n",
        "theoretical_mean = fixed_cost + (variable_cost_per_unit * X)\n",
        "print(f\"Theoretical Mean for weekly cost : {theoretical_mean}\")"
      ],
      "metadata": {
        "colab": {
          "base_uri": "https://localhost:8080/"
        },
        "id": "j09GDuAToS6Y",
        "outputId": "bfcd7e7b-676f-4b8b-ab6f-21db3fd38f34"
      },
      "execution_count": 12,
      "outputs": [
        {
          "output_type": "stream",
          "name": "stdout",
          "text": [
            "Theoretical Mean for weekly cost : 4000\n"
          ]
        }
      ]
    },
    {
      "cell_type": "code",
      "source": [
        "# Calculating the standard deviation of W\n",
        "\n",
        "std_X = 25\n",
        "std_W = variable_cost_per_unit * std_X\n",
        "print(f\"Standard Deviation of W : {std_W}\")"
      ],
      "metadata": {
        "colab": {
          "base_uri": "https://localhost:8080/"
        },
        "id": "4nKEfLvepxVQ",
        "outputId": "41a906b8-844f-4f8c-8082-02097c8b4a85"
      },
      "execution_count": 13,
      "outputs": [
        {
          "output_type": "stream",
          "name": "stdout",
          "text": [
            "Standard Deviation of W : 125\n"
          ]
        }
      ]
    },
    {
      "cell_type": "code",
      "source": [
        "# Calculating test statistic (t)\n",
        "\n",
        "t_statistic = (sample_mean - theoretical_mean) / (std_W / np.sqrt(n))\n",
        "print(f\"Test Statistic(t) : {t_statistic}\")\n"
      ],
      "metadata": {
        "colab": {
          "base_uri": "https://localhost:8080/"
        },
        "id": "-7jJs-SDrUjd",
        "outputId": "91d801e2-cea3-4759-f2e6-dbeee494849a"
      },
      "execution_count": 14,
      "outputs": [
        {
          "output_type": "stream",
          "name": "stdout",
          "text": [
            "Test Statistic(t) : -38.0\n"
          ]
        }
      ]
    },
    {
      "cell_type": "markdown",
      "source": [
        "**Determine the Critical Value :**"
      ],
      "metadata": {
        "id": "xNaM6_P7y64b"
      }
    },
    {
      "cell_type": "code",
      "source": [
        "# Determinig the critical value\n",
        "\n",
        "alpha = 0.05\n",
        "critical_value = stats.t.ppf(1 - alpha , df = n - 1)\n",
        "print(f\"Critical Value at alpha({alpha}): {critical_value}\")"
      ],
      "metadata": {
        "colab": {
          "base_uri": "https://localhost:8080/"
        },
        "id": "6oxRm0epsskN",
        "outputId": "09601cb8-c1f1-40f2-f037-9038ef3fce74"
      },
      "execution_count": 15,
      "outputs": [
        {
          "output_type": "stream",
          "name": "stdout",
          "text": [
            "Critical Value at alpha(0.05): 1.7108820799094275\n"
          ]
        }
      ]
    },
    {
      "cell_type": "markdown",
      "source": [
        "**Making a Decision :**"
      ],
      "metadata": {
        "id": "6-L7r-G0yvMG"
      }
    },
    {
      "cell_type": "code",
      "source": [
        "# Decision making\n",
        "\n",
        "if t_statistic > critical_value:\n",
        "    decision = \" Reject the Null Hypothesis(H0) \"\n",
        "else:\n",
        "    decision = \" Failed to reject the Null Hypothesis(H0) \"\n",
        "\n",
        "print(f\" Decision : {decision}\")"
      ],
      "metadata": {
        "colab": {
          "base_uri": "https://localhost:8080/"
        },
        "id": "r19fPvpktfpu",
        "outputId": "a6cfcc72-12e7-4809-87bd-31f968897403"
      },
      "execution_count": 16,
      "outputs": [
        {
          "output_type": "stream",
          "name": "stdout",
          "text": [
            " Decision :  Failed to reject the Null Hypothesis(H0) \n"
          ]
        }
      ]
    },
    {
      "cell_type": "markdown",
      "source": [
        "**Conclusion :**"
      ],
      "metadata": {
        "id": "0WSOuUh2ym4I"
      }
    },
    {
      "cell_type": "markdown",
      "source": [
        "In this case by comparing test statistic and critical value we conclude that test statistic is less than critical value so we failed to reject the Null Hypothesis(H0).\n",
        "\n",
        "So there is no enough evidence to support the feedback from restaurant owners suggests that this cost model may no longer be accurate, as their observed weekly operating costs are higher."
      ],
      "metadata": {
        "id": "LJeAoyfkwmjU"
      }
    }
  ]
}