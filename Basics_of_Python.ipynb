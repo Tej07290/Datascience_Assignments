{
  "nbformat": 4,
  "nbformat_minor": 0,
  "metadata": {
    "colab": {
      "provenance": []
    },
    "kernelspec": {
      "name": "python3",
      "display_name": "Python 3"
    },
    "language_info": {
      "name": "python"
    }
  },
  "cells": [
    {
      "cell_type": "markdown",
      "source": [
        "1.Prime Numbers or Not"
      ],
      "metadata": {
        "id": "VKJpdRwmrgZf"
      }
    },
    {
      "cell_type": "code",
      "execution_count": 4,
      "metadata": {
        "colab": {
          "base_uri": "https://localhost:8080/"
        },
        "id": "JqBNEp_Mn8NU",
        "outputId": "1475e4ad-884c-4732-e547-966b86b47512"
      },
      "outputs": [
        {
          "output_type": "stream",
          "name": "stdout",
          "text": [
            "enter the number:9\n",
            "9 is not a prime number\n"
          ]
        }
      ],
      "source": [
        "# Initiating count as 0\n",
        "count = 0\n",
        "# Requesting user for input\n",
        "n = int(input(\"enter the number:\"))\n",
        "# Iterating through numbers from 1 to n+1\n",
        "for i in range (1,n+1):\n",
        "    # Check if n is divisible by i\n",
        "    if n % i==0:\n",
        "        # If divisible then increment by 1\n",
        "        count+=1\n",
        "# Number is divisible by 2 numbers then\n",
        "if count == 2:\n",
        "     # n is a prime number\n",
        "    print(n,\"is a prime number\")\n",
        "else:\n",
        "     # n is not a prime number\n",
        "    print(n,\"is not a prime number\")"
      ]
    },
    {
      "cell_type": "markdown",
      "source": [
        "2.Product of Random Numbers"
      ],
      "metadata": {
        "id": "ovSlEUsisGFO"
      }
    },
    {
      "cell_type": "code",
      "source": [
        "import random\n",
        "# Requesting user for maximum number\n",
        "max = int(input(\"Enter a  maximum number: \"))\n",
        "# Generating two random numbers\n",
        "a = random.randint(0,max)\n",
        "b = random.randint(0,max)\n",
        "# Calculating the product\n",
        "product = a * b\n",
        "# Asking user for product\n",
        "user_product = int(input( f\" What is the product of {a} and {b} ? \"))\n",
        "# Checking if the user's answer is correct or not\n",
        "if product == user_product:\n",
        "    print(\" Yes! You are right.\")\n",
        "else:\n",
        "    print(f\" No! You are wrong ,\\n The correct product is {product}.\")"
      ],
      "metadata": {
        "colab": {
          "base_uri": "https://localhost:8080/"
        },
        "id": "L6FDMQi1pHAl",
        "outputId": "93ba217e-6124-4b1d-f723-a97f1be52f42"
      },
      "execution_count": 12,
      "outputs": [
        {
          "output_type": "stream",
          "name": "stdout",
          "text": [
            "Enter a  maximum number: 50\n",
            " What is the product of 45 and 0 ? 0\n",
            " Yes! You are right.\n"
          ]
        }
      ]
    },
    {
      "cell_type": "markdown",
      "source": [
        "3.Squares of Even/Odd Numbers"
      ],
      "metadata": {
        "id": "CYBvKI6lzQ5D"
      }
    },
    {
      "cell_type": "code",
      "source": [
        "# Asking user to choose even or odd , strip any leading whitespaces\n",
        "choice = input(\"Choose either 'even' or 'odd' numbers to see their squares:\").strip()\n",
        "# Proceeding by user's choice\n",
        "if choice == 'even':\n",
        "    # Printing a message to performe the operation\n",
        "    print (\"squares of even numbers from 100 to 200\")\n",
        "    # Iterating through range from 100 to 200+1\n",
        "    for i in range (100,200+1):\n",
        "        # Checking the number is even or not\n",
        "        if i % 2 == 0:\n",
        "            # Printing the number and it's squares\n",
        "            print(f\"{i} ^ 2 = {i ** 2}\")\n",
        "# Proceeding by user's choice\n",
        "elif choice == 'odd':\n",
        "     # Printing a message to performe the operation\n",
        "     print (\"squares of odd numbers from 100 to 200\")\n",
        "     # Iterating through range from 100 to 200+1\n",
        "     for i in range (100,200+1):\n",
        "         # Checking the number is odd or not\n",
        "         if i % 2 != 0:\n",
        "            # Printing the number and it's squares\n",
        "            print(f\"{i} ^ 2 = {i ** 2}\")\n",
        "else:\n",
        "     # Inform the user about an invalid choice\n",
        "     print (\"Invalid! Please choose 'even' or 'odd'\")\n"
      ],
      "metadata": {
        "colab": {
          "base_uri": "https://localhost:8080/"
        },
        "id": "veGIdThbza76",
        "outputId": "8fd77326-5287-4ec4-a9f8-daed56c34b4d"
      },
      "execution_count": 11,
      "outputs": [
        {
          "output_type": "stream",
          "name": "stdout",
          "text": [
            "Choose either 'even' or 'odd' numbers to see their squares:odd\n",
            "squares of odd numbers from 100 to 200\n",
            "101 ^ 2 = 10201\n",
            "103 ^ 2 = 10609\n",
            "105 ^ 2 = 11025\n",
            "107 ^ 2 = 11449\n",
            "109 ^ 2 = 11881\n",
            "111 ^ 2 = 12321\n",
            "113 ^ 2 = 12769\n",
            "115 ^ 2 = 13225\n",
            "117 ^ 2 = 13689\n",
            "119 ^ 2 = 14161\n",
            "121 ^ 2 = 14641\n",
            "123 ^ 2 = 15129\n",
            "125 ^ 2 = 15625\n",
            "127 ^ 2 = 16129\n",
            "129 ^ 2 = 16641\n",
            "131 ^ 2 = 17161\n",
            "133 ^ 2 = 17689\n",
            "135 ^ 2 = 18225\n",
            "137 ^ 2 = 18769\n",
            "139 ^ 2 = 19321\n",
            "141 ^ 2 = 19881\n",
            "143 ^ 2 = 20449\n",
            "145 ^ 2 = 21025\n",
            "147 ^ 2 = 21609\n",
            "149 ^ 2 = 22201\n",
            "151 ^ 2 = 22801\n",
            "153 ^ 2 = 23409\n",
            "155 ^ 2 = 24025\n",
            "157 ^ 2 = 24649\n",
            "159 ^ 2 = 25281\n",
            "161 ^ 2 = 25921\n",
            "163 ^ 2 = 26569\n",
            "165 ^ 2 = 27225\n",
            "167 ^ 2 = 27889\n",
            "169 ^ 2 = 28561\n",
            "171 ^ 2 = 29241\n",
            "173 ^ 2 = 29929\n",
            "175 ^ 2 = 30625\n",
            "177 ^ 2 = 31329\n",
            "179 ^ 2 = 32041\n",
            "181 ^ 2 = 32761\n",
            "183 ^ 2 = 33489\n",
            "185 ^ 2 = 34225\n",
            "187 ^ 2 = 34969\n",
            "189 ^ 2 = 35721\n",
            "191 ^ 2 = 36481\n",
            "193 ^ 2 = 37249\n",
            "195 ^ 2 = 38025\n",
            "197 ^ 2 = 38809\n",
            "199 ^ 2 = 39601\n"
          ]
        }
      ]
    },
    {
      "cell_type": "markdown",
      "source": [
        "4.Word Counter"
      ],
      "metadata": {
        "id": "h2Wrelfr4Lzz"
      }
    },
    {
      "cell_type": "code",
      "source": [
        "# Input text to be processed\n",
        "input_text = \"This is a sample text. This text will be used to demonstrate the word counter.\"\n",
        "# Dictionary to store word counts\n",
        "word_count = {}\n",
        "# Iterate through each word in the input text\n",
        "for word in input_text.split():\n",
        "    # Remove common punctuation marks\n",
        "    word = word.strip('.,!?:;\"()')\n",
        "     # Check if the word is already in the dictionary\n",
        "    if word in word_count:\n",
        "        # Increment the count if the word exists in the dictionary\n",
        "        word_count[word] += 1\n",
        "    else:\n",
        "        # Initialize the count to 1 if the word is not in the dictionary\n",
        "        word_count[word] = 1\n",
        "# Print the word counts\n",
        "for word,count in word_count.items():\n",
        "    print(f\"'{word}':{count}\")"
      ],
      "metadata": {
        "colab": {
          "base_uri": "https://localhost:8080/"
        },
        "id": "R-kJNEFc4ATI",
        "outputId": "7eb96e38-c0f1-43f9-e648-85e2bed97692"
      },
      "execution_count": 9,
      "outputs": [
        {
          "output_type": "stream",
          "name": "stdout",
          "text": [
            "'This':2\n",
            "'is':1\n",
            "'a':1\n",
            "'sample':1\n",
            "'text':2\n",
            "'will':1\n",
            "'be':1\n",
            "'used':1\n",
            "'to':1\n",
            "'demonstrate':1\n",
            "'the':1\n",
            "'word':1\n",
            "'counter':1\n"
          ]
        }
      ]
    },
    {
      "cell_type": "markdown",
      "source": [
        "5.Check for Palindrome"
      ],
      "metadata": {
        "id": "Av5lRZya-aut"
      }
    },
    {
      "cell_type": "code",
      "source": [
        "def is_palindrome(s):\n",
        "    # Checking that cleaned string is equal to its reversed string\n",
        "    return s == s[::-1]\n",
        "# Taken String\n",
        "s = \"racecar\"\n",
        "# Reversed string of taken string\n",
        "s1 = is_palindrome(s)\n",
        "# Checking the string is equal to reverse string or not\n",
        "if s1:\n",
        "   # If yes print string is palindrome\n",
        "   print(f\" True - {s} is Palindrome\")\n",
        "else:\n",
        "   # If not print string is not palindrome\n",
        "   print(f\" False - {s} is not Palindrome\")"
      ],
      "metadata": {
        "colab": {
          "base_uri": "https://localhost:8080/"
        },
        "id": "1oWhL5iB8iUZ",
        "outputId": "240d4021-dbc0-405b-8130-b204e31143a2"
      },
      "execution_count": 13,
      "outputs": [
        {
          "output_type": "stream",
          "name": "stdout",
          "text": [
            " True - racecar is Palindrome\n"
          ]
        }
      ]
    },
    {
      "cell_type": "code",
      "source": [],
      "metadata": {
        "id": "uZ5z79qwAH1p"
      },
      "execution_count": null,
      "outputs": []
    }
  ]
}